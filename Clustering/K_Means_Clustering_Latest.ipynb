{
  "nbformat": 4,
  "nbformat_minor": 0,
  "metadata": {
    "colab": {
      "name": "K Means - Clustering Latest.ipynb",
      "provenance": [],
      "collapsed_sections": [],
      "authorship_tag": "ABX9TyN1BA02YCEIkXnq5b7UYYNh",
      "include_colab_link": true
    },
    "kernelspec": {
      "name": "python3",
      "display_name": "Python 3"
    },
    "language_info": {
      "name": "python"
    }
  },
  "cells": [
    {
      "cell_type": "markdown",
      "metadata": {
        "id": "view-in-github",
        "colab_type": "text"
      },
      "source": [
        "<a href=\"https://colab.research.google.com/github/diazoniclabs/Machine-Learning-using-sklearn/blob/master/Clustering/K_Means_Clustering_Latest.ipynb\" target=\"_parent\"><img src=\"https://colab.research.google.com/assets/colab-badge.svg\" alt=\"Open In Colab\"/></a>"
      ]
    },
    {
      "cell_type": "code",
      "metadata": {
        "colab": {
          "base_uri": "https://localhost:8080/",
          "height": 206
        },
        "id": "w2qNJMuGB-_1",
        "outputId": "a72a8124-0904-4491-d491-168369ffde36"
      },
      "source": [
        "import pandas as pd\n",
        "df = pd.read_csv('https://raw.githubusercontent.com/diazonic/Machine-Learning-using-sklearn/master/Datasets/Mall_Customers.csv')\n",
        "df.head()"
      ],
      "execution_count": 46,
      "outputs": [
        {
          "output_type": "execute_result",
          "data": {
            "text/plain": [
              "   CustomerID  Gender  Age  Annual Income (k$)  Spending Score (1-100)\n",
              "0           1    Male   19                  15                      39\n",
              "1           2    Male   21                  15                      81\n",
              "2           3  Female   20                  16                       6\n",
              "3           4  Female   23                  16                      77\n",
              "4           5  Female   31                  17                      40"
            ],
            "text/html": [
              "\n",
              "  <div id=\"df-070ff528-fb88-428a-a105-606ee07029cc\">\n",
              "    <div class=\"colab-df-container\">\n",
              "      <div>\n",
              "<style scoped>\n",
              "    .dataframe tbody tr th:only-of-type {\n",
              "        vertical-align: middle;\n",
              "    }\n",
              "\n",
              "    .dataframe tbody tr th {\n",
              "        vertical-align: top;\n",
              "    }\n",
              "\n",
              "    .dataframe thead th {\n",
              "        text-align: right;\n",
              "    }\n",
              "</style>\n",
              "<table border=\"1\" class=\"dataframe\">\n",
              "  <thead>\n",
              "    <tr style=\"text-align: right;\">\n",
              "      <th></th>\n",
              "      <th>CustomerID</th>\n",
              "      <th>Gender</th>\n",
              "      <th>Age</th>\n",
              "      <th>Annual Income (k$)</th>\n",
              "      <th>Spending Score (1-100)</th>\n",
              "    </tr>\n",
              "  </thead>\n",
              "  <tbody>\n",
              "    <tr>\n",
              "      <th>0</th>\n",
              "      <td>1</td>\n",
              "      <td>Male</td>\n",
              "      <td>19</td>\n",
              "      <td>15</td>\n",
              "      <td>39</td>\n",
              "    </tr>\n",
              "    <tr>\n",
              "      <th>1</th>\n",
              "      <td>2</td>\n",
              "      <td>Male</td>\n",
              "      <td>21</td>\n",
              "      <td>15</td>\n",
              "      <td>81</td>\n",
              "    </tr>\n",
              "    <tr>\n",
              "      <th>2</th>\n",
              "      <td>3</td>\n",
              "      <td>Female</td>\n",
              "      <td>20</td>\n",
              "      <td>16</td>\n",
              "      <td>6</td>\n",
              "    </tr>\n",
              "    <tr>\n",
              "      <th>3</th>\n",
              "      <td>4</td>\n",
              "      <td>Female</td>\n",
              "      <td>23</td>\n",
              "      <td>16</td>\n",
              "      <td>77</td>\n",
              "    </tr>\n",
              "    <tr>\n",
              "      <th>4</th>\n",
              "      <td>5</td>\n",
              "      <td>Female</td>\n",
              "      <td>31</td>\n",
              "      <td>17</td>\n",
              "      <td>40</td>\n",
              "    </tr>\n",
              "  </tbody>\n",
              "</table>\n",
              "</div>\n",
              "      <button class=\"colab-df-convert\" onclick=\"convertToInteractive('df-070ff528-fb88-428a-a105-606ee07029cc')\"\n",
              "              title=\"Convert this dataframe to an interactive table.\"\n",
              "              style=\"display:none;\">\n",
              "        \n",
              "  <svg xmlns=\"http://www.w3.org/2000/svg\" height=\"24px\"viewBox=\"0 0 24 24\"\n",
              "       width=\"24px\">\n",
              "    <path d=\"M0 0h24v24H0V0z\" fill=\"none\"/>\n",
              "    <path d=\"M18.56 5.44l.94 2.06.94-2.06 2.06-.94-2.06-.94-.94-2.06-.94 2.06-2.06.94zm-11 1L8.5 8.5l.94-2.06 2.06-.94-2.06-.94L8.5 2.5l-.94 2.06-2.06.94zm10 10l.94 2.06.94-2.06 2.06-.94-2.06-.94-.94-2.06-.94 2.06-2.06.94z\"/><path d=\"M17.41 7.96l-1.37-1.37c-.4-.4-.92-.59-1.43-.59-.52 0-1.04.2-1.43.59L10.3 9.45l-7.72 7.72c-.78.78-.78 2.05 0 2.83L4 21.41c.39.39.9.59 1.41.59.51 0 1.02-.2 1.41-.59l7.78-7.78 2.81-2.81c.8-.78.8-2.07 0-2.86zM5.41 20L4 18.59l7.72-7.72 1.47 1.35L5.41 20z\"/>\n",
              "  </svg>\n",
              "      </button>\n",
              "      \n",
              "  <style>\n",
              "    .colab-df-container {\n",
              "      display:flex;\n",
              "      flex-wrap:wrap;\n",
              "      gap: 12px;\n",
              "    }\n",
              "\n",
              "    .colab-df-convert {\n",
              "      background-color: #E8F0FE;\n",
              "      border: none;\n",
              "      border-radius: 50%;\n",
              "      cursor: pointer;\n",
              "      display: none;\n",
              "      fill: #1967D2;\n",
              "      height: 32px;\n",
              "      padding: 0 0 0 0;\n",
              "      width: 32px;\n",
              "    }\n",
              "\n",
              "    .colab-df-convert:hover {\n",
              "      background-color: #E2EBFA;\n",
              "      box-shadow: 0px 1px 2px rgba(60, 64, 67, 0.3), 0px 1px 3px 1px rgba(60, 64, 67, 0.15);\n",
              "      fill: #174EA6;\n",
              "    }\n",
              "\n",
              "    [theme=dark] .colab-df-convert {\n",
              "      background-color: #3B4455;\n",
              "      fill: #D2E3FC;\n",
              "    }\n",
              "\n",
              "    [theme=dark] .colab-df-convert:hover {\n",
              "      background-color: #434B5C;\n",
              "      box-shadow: 0px 1px 3px 1px rgba(0, 0, 0, 0.15);\n",
              "      filter: drop-shadow(0px 1px 2px rgba(0, 0, 0, 0.3));\n",
              "      fill: #FFFFFF;\n",
              "    }\n",
              "  </style>\n",
              "\n",
              "      <script>\n",
              "        const buttonEl =\n",
              "          document.querySelector('#df-070ff528-fb88-428a-a105-606ee07029cc button.colab-df-convert');\n",
              "        buttonEl.style.display =\n",
              "          google.colab.kernel.accessAllowed ? 'block' : 'none';\n",
              "\n",
              "        async function convertToInteractive(key) {\n",
              "          const element = document.querySelector('#df-070ff528-fb88-428a-a105-606ee07029cc');\n",
              "          const dataTable =\n",
              "            await google.colab.kernel.invokeFunction('convertToInteractive',\n",
              "                                                     [key], {});\n",
              "          if (!dataTable) return;\n",
              "\n",
              "          const docLinkHtml = 'Like what you see? Visit the ' +\n",
              "            '<a target=\"_blank\" href=https://colab.research.google.com/notebooks/data_table.ipynb>data table notebook</a>'\n",
              "            + ' to learn more about interactive tables.';\n",
              "          element.innerHTML = '';\n",
              "          dataTable['output_type'] = 'display_data';\n",
              "          await google.colab.output.renderOutput(dataTable, element);\n",
              "          const docLink = document.createElement('div');\n",
              "          docLink.innerHTML = docLinkHtml;\n",
              "          element.appendChild(docLink);\n",
              "        }\n",
              "      </script>\n",
              "    </div>\n",
              "  </div>\n",
              "  "
            ]
          },
          "metadata": {},
          "execution_count": 46
        }
      ]
    },
    {
      "cell_type": "code",
      "metadata": {
        "colab": {
          "base_uri": "https://localhost:8080/"
        },
        "id": "yoQSmZjaNkgI",
        "outputId": "6b031503-976a-43c5-d3ab-82a6c86edfd5"
      },
      "source": [
        "df.shape"
      ],
      "execution_count": 47,
      "outputs": [
        {
          "output_type": "execute_result",
          "data": {
            "text/plain": [
              "(200, 5)"
            ]
          },
          "metadata": {},
          "execution_count": 47
        }
      ]
    },
    {
      "cell_type": "code",
      "metadata": {
        "colab": {
          "base_uri": "https://localhost:8080/",
          "height": 308
        },
        "id": "fqUoz4gGHweB",
        "outputId": "f3fae4d3-3646-492c-d907-2bb434bf7c11"
      },
      "source": [
        "df['Gender'].value_counts().plot(kind='bar')"
      ],
      "execution_count": 48,
      "outputs": [
        {
          "output_type": "execute_result",
          "data": {
            "text/plain": [
              "<matplotlib.axes._subplots.AxesSubplot at 0x7f658536d550>"
            ]
          },
          "metadata": {},
          "execution_count": 48
        },
        {
          "output_type": "display_data",
          "data": {
            "text/plain": [
              "<Figure size 432x288 with 1 Axes>"
            ],
            "image/png": "[encoded data removed]"
          },
          "metadata": {
            "needs_background": "light"
          }
        }
      ]
    },
    {
      "cell_type": "code",
      "metadata": {
        "id": "tkggjkOUJSPe"
      },
      "source": [
        "# COnsidering annual income and spending score\n",
        "\n",
        "x = df.iloc[:,[3,4]].values"
      ],
      "execution_count": 49,
      "outputs": []
    },
    {
      "cell_type": "code",
      "metadata": {
        "colab": {
          "base_uri": "https://localhost:8080/",
          "height": 331
        },
        "id": "6286BnNfJq8u",
        "outputId": "a195708b-d38b-49d0-f087-e7f53e0c5fab"
      },
      "source": [
        "import matplotlib.pyplot as plt\n",
        "plt.figure(figsize=(20,5))\n",
        "plt.scatter(df['Annual Income (k$)'],df['Spending Score (1-100)'])\n",
        "plt.xlabel('Annual Income(k$)')\n",
        "plt.ylabel('Spending score')\n",
        "plt.show()"
      ],
      "execution_count": 50,
      "outputs": [
        {
          "output_type": "display_data",
          "data": {
            "text/plain": [
              "<Figure size 1440x360 with 1 Axes>"
            ],
            "image/png": "[encoded data removed]"
          },
          "metadata": {
            "needs_background": "light"
          }
        }
      ]
    },
    {
      "cell_type": "code",
      "metadata": {
        "colab": {
          "base_uri": "https://localhost:8080/"
        },
        "id": "IItGjGvdKCpM",
        "outputId": "963046cf-0401-4e6c-dbd6-2acf7d2d4be7"
      },
      "source": [
        "# Assume the value of k to be 3\n",
        "k = 3\n",
        "from sklearn.cluster import KMeans\n",
        "model = KMeans(n_clusters=3,random_state=0)\n",
        "model.fit(x)\n",
        "y = model.predict(x)\n",
        "y"
      ],
      "execution_count": 51,
      "outputs": [
        {
          "output_type": "execute_result",
          "data": {
            "text/plain": [
              "array([1, 1, 1, 1, 1, 1, 1, 1, 1, 1, 1, 1, 1, 1, 1, 1, 1, 1, 1, 1, 1, 1,\n",
              "       1, 1, 1, 1, 1, 1, 1, 1, 1, 1, 1, 1, 1, 1, 1, 1, 1, 1, 1, 1, 1, 1,\n",
              "       1, 1, 1, 1, 1, 1, 1, 1, 1, 1, 1, 1, 1, 1, 1, 1, 1, 1, 1, 1, 1, 1,\n",
              "       1, 1, 1, 1, 1, 1, 1, 1, 1, 1, 1, 1, 1, 1, 1, 1, 1, 1, 1, 1, 1, 1,\n",
              "       1, 1, 1, 1, 1, 1, 1, 1, 1, 1, 1, 1, 1, 1, 1, 1, 1, 1, 1, 1, 1, 1,\n",
              "       1, 1, 1, 1, 1, 1, 1, 1, 1, 1, 1, 1, 1, 2, 0, 2, 0, 2, 0, 2, 0, 2,\n",
              "       0, 2, 0, 2, 0, 2, 0, 2, 0, 2, 0, 2, 0, 2, 0, 2, 0, 2, 0, 2, 0, 2,\n",
              "       0, 2, 0, 2, 0, 2, 0, 2, 0, 2, 0, 2, 0, 2, 0, 2, 0, 2, 0, 2, 0, 2,\n",
              "       0, 2, 0, 2, 0, 2, 0, 2, 0, 2, 0, 2, 0, 2, 0, 2, 0, 2, 0, 2, 0, 2,\n",
              "       0, 2], dtype=int32)"
            ]
          },
          "metadata": {},
          "execution_count": 51
        }
      ]
    },
    {
      "cell_type": "code",
      "metadata": {
        "colab": {
          "base_uri": "https://localhost:8080/"
        },
        "id": "ldffaNUzKpHQ",
        "outputId": "502d2cca-e001-4816-b76b-94f4a7fd3209"
      },
      "source": [
        "import numpy as np\n",
        "np.unique(y,return_counts=True)"
      ],
      "execution_count": 52,
      "outputs": [
        {
          "output_type": "execute_result",
          "data": {
            "text/plain": [
              "(array([0, 1, 2], dtype=int32), array([ 38, 123,  39]))"
            ]
          },
          "metadata": {},
          "execution_count": 52
        }
      ]
    },
    {
      "cell_type": "code",
      "metadata": {
        "colab": {
          "base_uri": "https://localhost:8080/"
        },
        "id": "8nGiYz-bL6AZ",
        "outputId": "0b601892-4311-463c-f159-06182dadf6b4"
      },
      "source": [
        "# Cluster value : Column Value\n",
        "# Cluster :0,1,2\n",
        "# Column = 0-Income, 1-Score\n",
        "\n",
        "x[y==0,1]"
      ],
      "execution_count": 53,
      "outputs": [
        {
          "output_type": "execute_result",
          "data": {
            "text/plain": [
              "array([29, 35, 11,  9, 34,  5,  7, 10,  5, 40, 12, 36, 22, 17, 20, 16,  1,\n",
              "        1, 35,  5, 26, 20, 27, 13, 10, 13, 15, 14, 32, 15, 39, 24, 17, 23,\n",
              "        8, 16, 28, 18])"
            ]
          },
          "metadata": {},
          "execution_count": 53
        }
      ]
    },
    {
      "cell_type": "code",
      "metadata": {
        "colab": {
          "base_uri": "https://localhost:8080/",
          "height": 337
        },
        "id": "rdXMJ-u8MW1L",
        "outputId": "aeeb6c50-22a6-44ff-f755-b21281c0b618"
      },
      "source": [
        "plt.figure(figsize=(10,5))\n",
        "for i in range(k):\n",
        "  plt.scatter(x[y==i,0],x[y==i,1],label =f'Cluster {i}')\n",
        "plt.legend()"
      ],
      "execution_count": 54,
      "outputs": [
        {
          "output_type": "execute_result",
          "data": {
            "text/plain": [
              "<matplotlib.legend.Legend at 0x7f6585253ed0>"
            ]
          },
          "metadata": {},
          "execution_count": 54
        },
        {
          "output_type": "display_data",
          "data": {
            "text/plain": [
              "<Figure size 720x360 with 1 Axes>"
            ],
            "image/png": "[encoded data removed]"
          },
          "metadata": {
            "needs_background": "light"
          }
        }
      ]
    },
    {
      "cell_type": "code",
      "metadata": {
        "colab": {
          "base_uri": "https://localhost:8080/"
        },
        "id": "9gu8mGgRNAZj",
        "outputId": "c61f2306-55bd-4dba-ccf3-0eb17790e60a"
      },
      "source": [
        "# Elbow Method\n",
        "# k value will range between 2 to sq root of the no of rows\n",
        "\n",
        "import numpy as np\n",
        "np.sqrt(200)"
      ],
      "execution_count": 55,
      "outputs": [
        {
          "output_type": "execute_result",
          "data": {
            "text/plain": [
              "14.142135623730951"
            ]
          },
          "metadata": {},
          "execution_count": 55
        }
      ]
    },
    {
      "cell_type": "code",
      "source": [
        ""
      ],
      "metadata": {
        "id": "ebUf2U7FU-Rc"
      },
      "execution_count": 55,
      "outputs": []
    },
    {
      "cell_type": "code",
      "metadata": {
        "colab": {
          "base_uri": "https://localhost:8080/",
          "height": 265
        },
        "id": "RnwZlq3sN0mu",
        "outputId": "3f6fb73b-fe03-446b-dbee-15a562e50c2a"
      },
      "source": [
        "k_demo = range(1,15)\n",
        "sse = [] # Sum of Squared Error \n",
        "for i in k_demo:\n",
        "  model = KMeans(n_clusters=i,random_state=0)\n",
        "  model.fit(x)\n",
        "  sse.append(model.inertia_)\n",
        "  #print((i,0),(i,model.inertia_))\n",
        "  plt.plot((i,i),(0,model.inertia_),linestyle=':',c='k')\n",
        "\n",
        "#plt.scatter(k_demo,sse)\n",
        "plt.plot(k_demo,sse)\n",
        "plt.show()"
      ],
      "execution_count": 56,
      "outputs": [
        {
          "output_type": "display_data",
          "data": {
            "text/plain": [
              "<Figure size 432x288 with 1 Axes>"
            ],
            "image/png": "[encoded data removed]"
          },
          "metadata": {
            "needs_background": "light"
          }
        }
      ]
    },
    {
      "cell_type": "code",
      "source": [
        "!pip install --upgrade kneed --quiet"
      ],
      "metadata": {
        "id": "o-voHn0KcFAT"
      },
      "execution_count": 58,
      "outputs": []
    },
    {
      "cell_type": "code",
      "source": [
        "from kneed import KneeLocator\n",
        "kn = KneeLocator(k_demo, sse, curve='convex', direction='decreasing')\n",
        "elbow_point = kn.knee\n",
        "elbow_point"
      ],
      "metadata": {
        "colab": {
          "base_uri": "https://localhost:8080/"
        },
        "id": "6HWBSiONbP_i",
        "outputId": "809d91fb-84b3-47ed-b11f-5820220fcc86"
      },
      "execution_count": 60,
      "outputs": [
        {
          "output_type": "execute_result",
          "data": {
            "text/plain": [
              "5"
            ]
          },
          "metadata": {},
          "execution_count": 60
        }
      ]
    },
    {
      "cell_type": "code",
      "source": [
        "x[0][1]"
      ],
      "metadata": {
        "id": "XxTmDUECWkbM"
      },
      "execution_count": null,
      "outputs": []
    },
    {
      "cell_type": "code",
      "source": [
        "# Within sum of Squared Errors for 1 cluster\n",
        "x1m = x[:,0].mean()\n",
        "x2m = x[:,1].mean()\n",
        "a1 = []\n",
        "a2 = []\n",
        "for i in range(len(x)):\n",
        "  a1.append((x[i][0]-x1m)**2)\n",
        "  a2.append((x[i][1]-x2m)**2)\n",
        "np.sum(a1+a2)"
      ],
      "metadata": {
        "colab": {
          "base_uri": "https://localhost:8080/"
        },
        "id": "SFBxdgI5WQfp",
        "outputId": "91529d30-8dee-43fb-e0b3-8ffd28f05556"
      },
      "execution_count": 69,
      "outputs": [
        {
          "output_type": "execute_result",
          "data": {
            "text/plain": [
              "269981.28"
            ]
          },
          "metadata": {},
          "execution_count": 69
        }
      ]
    },
    {
      "cell_type": "code",
      "source": [
        "model = KMeans(n_clusters=2,random_state=0)\n",
        "model.fit(x)\n",
        "model.inertia_"
      ],
      "metadata": {
        "colab": {
          "base_uri": "https://localhost:8080/"
        },
        "id": "QpX2u05YU5Ag",
        "outputId": "acc2f831-0a07-4bd0-9e9d-000a42f2f443"
      },
      "execution_count": 67,
      "outputs": [
        {
          "output_type": "execute_result",
          "data": {
            "text/plain": [
              "181363.59595959593"
            ]
          },
          "metadata": {},
          "execution_count": 67
        }
      ]
    },
    {
      "cell_type": "code",
      "metadata": {
        "id": "uf0qVbTbOi_W"
      },
      "source": [
        "# Evaluation\n",
        "\n",
        "# Silhoutte coefficient\n",
        "# -1 to +1\n",
        "# Near to -1  means model is clustered poorly\n",
        "# +1 indicates model is performing good"
      ],
      "execution_count": null,
      "outputs": []
    },
    {
      "cell_type": "code",
      "metadata": {
        "id": "LIrJc20gPS5N"
      },
      "source": [
        "from sklearn.metrics import silhouette_score\n",
        "k_demo = range(2,15)\n",
        "for i in k_demo:\n",
        "    model = KMeans(n_clusters=i,random_state=0)\n",
        "    model.fit(x)\n",
        "    y = model.predict(x)\n",
        "    print(f'{i} Clusters - {silhouette_score(x,y)}') \n",
        "    plt.bar(i,silhouette_score(x,y))\n",
        "plt.show()"
      ],
      "execution_count": null,
      "outputs": []
    },
    {
      "cell_type": "code",
      "metadata": {
        "id": "58uNG4aLP15R"
      },
      "source": [
        "# Complete visualization for different k value\n",
        "k = 5\n",
        "from sklearn.cluster import KMeans\n",
        "model = KMeans(n_clusters=k,random_state=0)\n",
        "model.fit(x)\n",
        "y = model.predict(x)\n",
        "\n",
        "plt.figure(figsize=(20,5))\n",
        "for i in range(k):\n",
        "  plt.scatter(x[y==i,0],x[y==i,1],label =f'Cluster {i}',s=70)\n",
        "plt.scatter(model.cluster_centers_[:,0],model.cluster_centers_[:,1],s=300,c='yellow')\n",
        "plt.legend()\n",
        "plt.xlabel('Annual Income(k$)')\n",
        "plt.ylabel('Spending score')\n",
        "plt.show()"
      ],
      "execution_count": null,
      "outputs": []
    },
    {
      "cell_type": "code",
      "source": [
        "#https://www.youtube.com/watch?v=AGRMQ07KCrU&ab_channel=RANJIRAJ"
      ],
      "metadata": {
        "id": "LaDjrTF5n69r"
      },
      "execution_count": null,
      "outputs": []
    },
    {
      "cell_type": "code",
      "metadata": {
        "id": "g3GYQZ3uQqoI"
      },
      "source": [
        "from scipy.spatial.distance import pdist,squareform\n",
        "from sklearn.metrics import pairwise_distances"
      ],
      "execution_count": 70,
      "outputs": []
    },
    {
      "cell_type": "code",
      "source": [
        "dist = pdist(df[['Annual Income (k$)','Spending Score (1-100)']],metric='euclidean')\n",
        "dist_matrix = pd.DataFrame(squareform(dist))\n",
        "dist_matrix"
      ],
      "metadata": {
        "colab": {
          "base_uri": "https://localhost:8080/",
          "height": 488
        },
        "id": "1BEl_m1omsGE",
        "outputId": "5783ac6b-82dc-4480-ff65-b1bff67a86f0"
      },
      "execution_count": 71,
      "outputs": [
        {
          "output_type": "execute_result",
          "data": {
            "text/plain": [
              "            0           1           2           3           4           5    \\\n",
              "0      0.000000   42.000000   33.015148   38.013156    2.236068   37.054015   \n",
              "1     42.000000    0.000000   75.006666    4.123106   41.048752    5.385165   \n",
              "2     33.015148   75.006666    0.000000   71.000000   34.014703   70.007142   \n",
              "3     38.013156    4.123106   71.000000    0.000000   37.013511    1.414214   \n",
              "4      2.236068   41.048752   34.014703   37.013511    0.000000   36.000000   \n",
              "..          ...         ...         ...         ...         ...         ...   \n",
              "195  112.361025  105.019046  127.062977  104.019229  110.136279  103.043680   \n",
              "196  111.543713  123.004065  112.178429  120.420098  109.658561  119.100798   \n",
              "197  116.387285  111.220502  129.321305  110.040901  114.179683  109.018347   \n",
              "198  123.794184  137.306227  121.593585  134.617978  122.000000  133.281657   \n",
              "199  129.691943  122.016392  143.422453  121.148669  127.471565  120.203993   \n",
              "\n",
              "            6           7           8           9    ...         190  \\\n",
              "0     33.136083   55.081757   36.221541   33.241540  ...   89.442719   \n",
              "1     75.059976   13.341664   78.102497    9.848858  ...  105.394497   \n",
              "2      2.000000   88.022724    4.242641   66.068147  ...   88.645361   \n",
              "3     71.028163   17.117243   74.060786    5.830952  ...  102.396289   \n",
              "4     34.014703   54.009258   37.054015   32.062439  ...   87.664132   \n",
              "..          ...         ...         ...         ...  ...         ...   \n",
              "195  125.431256  103.097042  126.400158  101.242284  ...   58.523500   \n",
              "196  110.217966  126.570139  109.881755  115.693561  ...   23.537205   \n",
              "197  127.624449  109.836242  128.413395  107.018690  ...   55.946403   \n",
              "198  119.603512  141.198442  118.949569  129.769026  ...   34.365681   \n",
              "199  141.739197  119.507322  142.562267  118.511603  ...   68.963759   \n",
              "\n",
              "            191         192         193         194         195         196  \\\n",
              "0     92.973114  102.786186  110.941426  107.489534  112.361025  111.543713   \n",
              "1     88.814413  122.200655   98.508883  123.490890  105.019046  123.004065   \n",
              "2    107.415083   97.020616  128.972865  104.479663  127.062977  112.178429   \n",
              "3     87.367042  119.037809   98.005102  120.569482  104.019229  120.420098   \n",
              "4     90.757920  101.192885  108.706026  105.759160  110.136279  109.658561   \n",
              "..          ...         ...         ...         ...         ...         ...   \n",
              "195   19.723083   71.344236   13.892444   63.000000    0.000000   51.351728   \n",
              "196   47.010637   23.853721   64.327288   13.416408   51.351728    0.000000   \n",
              "197   23.537205   67.268120   21.400935   58.309519    7.810250   46.000000   \n",
              "198   61.294372   26.000000   76.843998   17.117243   63.324561   14.866069   \n",
              "199   36.769553   78.746428   25.298221   69.123079   17.464249   56.089215   \n",
              "\n",
              "            197         198         199  \n",
              "0    116.387285  123.794184  129.691943  \n",
              "1    111.220502  137.306227  122.016392  \n",
              "2    129.321305  121.593585  143.422453  \n",
              "3    110.040901  134.617978  121.148669  \n",
              "4    114.179683  122.000000  127.471565  \n",
              "..          ...         ...         ...  \n",
              "195    7.810250   63.324561   17.464249  \n",
              "196   46.000000   14.866069   56.089215  \n",
              "197    0.000000   57.070132   14.212670  \n",
              "198   57.070132    0.000000   65.000000  \n",
              "199   14.212670   65.000000    0.000000  \n",
              "\n",
              "[200 rows x 200 columns]"
            ],
            "text/html": [
              "\n",
              "  <div id=\"df-2a39fd46-c5fe-415e-9525-26a83c625eb2\">\n",
              "    <div class=\"colab-df-container\">\n",
              "      <div>\n",
              "<style scoped>\n",
              "    .dataframe tbody tr th:only-of-type {\n",
              "        vertical-align: middle;\n",
              "    }\n",
              "\n",
              "    .dataframe tbody tr th {\n",
              "        vertical-align: top;\n",
              "    }\n",
              "\n",
              "    .dataframe thead th {\n",
              "        text-align: right;\n",
              "    }\n",
              "</style>\n",
              "<table border=\"1\" class=\"dataframe\">\n",
              "  <thead>\n",
              "    <tr style=\"text-align: right;\">\n",
              "      <th></th>\n",
              "      <th>0</th>\n",
              "      <th>1</th>\n",
              "      <th>2</th>\n",
              "      <th>3</th>\n",
              "      <th>4</th>\n",
              "      <th>5</th>\n",
              "      <th>6</th>\n",
              "      <th>7</th>\n",
              "      <th>8</th>\n",
              "      <th>9</th>\n",
              "      <th>...</th>\n",
              "      <th>190</th>\n",
              "      <th>191</th>\n",
              "      <th>192</th>\n",
              "      <th>193</th>\n",
              "      <th>194</th>\n",
              "      <th>195</th>\n",
              "      <th>196</th>\n",
              "      <th>197</th>\n",
              "      <th>198</th>\n",
              "      <th>199</th>\n",
              "    </tr>\n",
              "  </thead>\n",
              "  <tbody>\n",
              "    <tr>\n",
              "      <th>0</th>\n",
              "      <td>0.000000</td>\n",
              "      <td>42.000000</td>\n",
              "      <td>33.015148</td>\n",
              "      <td>38.013156</td>\n",
              "      <td>2.236068</td>\n",
              "      <td>37.054015</td>\n",
              "      <td>33.136083</td>\n",
              "      <td>55.081757</td>\n",
              "      <td>36.221541</td>\n",
              "      <td>33.241540</td>\n",
              "      <td>...</td>\n",
              "      <td>89.442719</td>\n",
              "      <td>92.973114</td>\n",
              "      <td>102.786186</td>\n",
              "      <td>110.941426</td>\n",
              "      <td>107.489534</td>\n",
              "      <td>112.361025</td>\n",
              "      <td>111.543713</td>\n",
              "      <td>116.387285</td>\n",
              "      <td>123.794184</td>\n",
              "      <td>129.691943</td>\n",
              "    </tr>\n",
              "    <tr>\n",
              "      <th>1</th>\n",
              "      <td>42.000000</td>\n",
              "      <td>0.000000</td>\n",
              "      <td>75.006666</td>\n",
              "      <td>4.123106</td>\n",
              "      <td>41.048752</td>\n",
              "      <td>5.385165</td>\n",
              "      <td>75.059976</td>\n",
              "      <td>13.341664</td>\n",
              "      <td>78.102497</td>\n",
              "      <td>9.848858</td>\n",
              "      <td>...</td>\n",
              "      <td>105.394497</td>\n",
              "      <td>88.814413</td>\n",
              "      <td>122.200655</td>\n",
              "      <td>98.508883</td>\n",
              "      <td>123.490890</td>\n",
              "      <td>105.019046</td>\n",
              "      <td>123.004065</td>\n",
              "      <td>111.220502</td>\n",
              "      <td>137.306227</td>\n",
              "      <td>122.016392</td>\n",
              "    </tr>\n",
              "    <tr>\n",
              "      <th>2</th>\n",
              "      <td>33.015148</td>\n",
              "      <td>75.006666</td>\n",
              "      <td>0.000000</td>\n",
              "      <td>71.000000</td>\n",
              "      <td>34.014703</td>\n",
              "      <td>70.007142</td>\n",
              "      <td>2.000000</td>\n",
              "      <td>88.022724</td>\n",
              "      <td>4.242641</td>\n",
              "      <td>66.068147</td>\n",
              "      <td>...</td>\n",
              "      <td>88.645361</td>\n",
              "      <td>107.415083</td>\n",
              "      <td>97.020616</td>\n",
              "      <td>128.972865</td>\n",
              "      <td>104.479663</td>\n",
              "      <td>127.062977</td>\n",
              "      <td>112.178429</td>\n",
              "      <td>129.321305</td>\n",
              "      <td>121.593585</td>\n",
              "      <td>143.422453</td>\n",
              "    </tr>\n",
              "    <tr>\n",
              "      <th>3</th>\n",
              "      <td>38.013156</td>\n",
              "      <td>4.123106</td>\n",
              "      <td>71.000000</td>\n",
              "      <td>0.000000</td>\n",
              "      <td>37.013511</td>\n",
              "      <td>1.414214</td>\n",
              "      <td>71.028163</td>\n",
              "      <td>17.117243</td>\n",
              "      <td>74.060786</td>\n",
              "      <td>5.830952</td>\n",
              "      <td>...</td>\n",
              "      <td>102.396289</td>\n",
              "      <td>87.367042</td>\n",
              "      <td>119.037809</td>\n",
              "      <td>98.005102</td>\n",
              "      <td>120.569482</td>\n",
              "      <td>104.019229</td>\n",
              "      <td>120.420098</td>\n",
              "      <td>110.040901</td>\n",
              "      <td>134.617978</td>\n",
              "      <td>121.148669</td>\n",
              "    </tr>\n",
              "    <tr>\n",
              "      <th>4</th>\n",
              "      <td>2.236068</td>\n",
              "      <td>41.048752</td>\n",
              "      <td>34.014703</td>\n",
              "      <td>37.013511</td>\n",
              "      <td>0.000000</td>\n",
              "      <td>36.000000</td>\n",
              "      <td>34.014703</td>\n",
              "      <td>54.009258</td>\n",
              "      <td>37.054015</td>\n",
              "      <td>32.062439</td>\n",
              "      <td>...</td>\n",
              "      <td>87.664132</td>\n",
              "      <td>90.757920</td>\n",
              "      <td>101.192885</td>\n",
              "      <td>108.706026</td>\n",
              "      <td>105.759160</td>\n",
              "      <td>110.136279</td>\n",
              "      <td>109.658561</td>\n",
              "      <td>114.179683</td>\n",
              "      <td>122.000000</td>\n",
              "      <td>127.471565</td>\n",
              "    </tr>\n",
              "    <tr>\n",
              "      <th>...</th>\n",
              "      <td>...</td>\n",
              "      <td>...</td>\n",
              "      <td>...</td>\n",
              "      <td>...</td>\n",
              "      <td>...</td>\n",
              "      <td>...</td>\n",
              "      <td>...</td>\n",
              "      <td>...</td>\n",
              "      <td>...</td>\n",
              "      <td>...</td>\n",
              "      <td>...</td>\n",
              "      <td>...</td>\n",
              "      <td>...</td>\n",
              "      <td>...</td>\n",
              "      <td>...</td>\n",
              "      <td>...</td>\n",
              "      <td>...</td>\n",
              "      <td>...</td>\n",
              "      <td>...</td>\n",
              "      <td>...</td>\n",
              "      <td>...</td>\n",
              "    </tr>\n",
              "    <tr>\n",
              "      <th>195</th>\n",
              "      <td>112.361025</td>\n",
              "      <td>105.019046</td>\n",
              "      <td>127.062977</td>\n",
              "      <td>104.019229</td>\n",
              "      <td>110.136279</td>\n",
              "      <td>103.043680</td>\n",
              "      <td>125.431256</td>\n",
              "      <td>103.097042</td>\n",
              "      <td>126.400158</td>\n",
              "      <td>101.242284</td>\n",
              "      <td>...</td>\n",
              "      <td>58.523500</td>\n",
              "      <td>19.723083</td>\n",
              "      <td>71.344236</td>\n",
              "      <td>13.892444</td>\n",
              "      <td>63.000000</td>\n",
              "      <td>0.000000</td>\n",
              "      <td>51.351728</td>\n",
              "      <td>7.810250</td>\n",
              "      <td>63.324561</td>\n",
              "      <td>17.464249</td>\n",
              "    </tr>\n",
              "    <tr>\n",
              "      <th>196</th>\n",
              "      <td>111.543713</td>\n",
              "      <td>123.004065</td>\n",
              "      <td>112.178429</td>\n",
              "      <td>120.420098</td>\n",
              "      <td>109.658561</td>\n",
              "      <td>119.100798</td>\n",
              "      <td>110.217966</td>\n",
              "      <td>126.570139</td>\n",
              "      <td>109.881755</td>\n",
              "      <td>115.693561</td>\n",
              "      <td>...</td>\n",
              "      <td>23.537205</td>\n",
              "      <td>47.010637</td>\n",
              "      <td>23.853721</td>\n",
              "      <td>64.327288</td>\n",
              "      <td>13.416408</td>\n",
              "      <td>51.351728</td>\n",
              "      <td>0.000000</td>\n",
              "      <td>46.000000</td>\n",
              "      <td>14.866069</td>\n",
              "      <td>56.089215</td>\n",
              "    </tr>\n",
              "    <tr>\n",
              "      <th>197</th>\n",
              "      <td>116.387285</td>\n",
              "      <td>111.220502</td>\n",
              "      <td>129.321305</td>\n",
              "      <td>110.040901</td>\n",
              "      <td>114.179683</td>\n",
              "      <td>109.018347</td>\n",
              "      <td>127.624449</td>\n",
              "      <td>109.836242</td>\n",
              "      <td>128.413395</td>\n",
              "      <td>107.018690</td>\n",
              "      <td>...</td>\n",
              "      <td>55.946403</td>\n",
              "      <td>23.537205</td>\n",
              "      <td>67.268120</td>\n",
              "      <td>21.400935</td>\n",
              "      <td>58.309519</td>\n",
              "      <td>7.810250</td>\n",
              "      <td>46.000000</td>\n",
              "      <td>0.000000</td>\n",
              "      <td>57.070132</td>\n",
              "      <td>14.212670</td>\n",
              "    </tr>\n",
              "    <tr>\n",
              "      <th>198</th>\n",
              "      <td>123.794184</td>\n",
              "      <td>137.306227</td>\n",
              "      <td>121.593585</td>\n",
              "      <td>134.617978</td>\n",
              "      <td>122.000000</td>\n",
              "      <td>133.281657</td>\n",
              "      <td>119.603512</td>\n",
              "      <td>141.198442</td>\n",
              "      <td>118.949569</td>\n",
              "      <td>129.769026</td>\n",
              "      <td>...</td>\n",
              "      <td>34.365681</td>\n",
              "      <td>61.294372</td>\n",
              "      <td>26.000000</td>\n",
              "      <td>76.843998</td>\n",
              "      <td>17.117243</td>\n",
              "      <td>63.324561</td>\n",
              "      <td>14.866069</td>\n",
              "      <td>57.070132</td>\n",
              "      <td>0.000000</td>\n",
              "      <td>65.000000</td>\n",
              "    </tr>\n",
              "    <tr>\n",
              "      <th>199</th>\n",
              "      <td>129.691943</td>\n",
              "      <td>122.016392</td>\n",
              "      <td>143.422453</td>\n",
              "      <td>121.148669</td>\n",
              "      <td>127.471565</td>\n",
              "      <td>120.203993</td>\n",
              "      <td>141.739197</td>\n",
              "      <td>119.507322</td>\n",
              "      <td>142.562267</td>\n",
              "      <td>118.511603</td>\n",
              "      <td>...</td>\n",
              "      <td>68.963759</td>\n",
              "      <td>36.769553</td>\n",
              "      <td>78.746428</td>\n",
              "      <td>25.298221</td>\n",
              "      <td>69.123079</td>\n",
              "      <td>17.464249</td>\n",
              "      <td>56.089215</td>\n",
              "      <td>14.212670</td>\n",
              "      <td>65.000000</td>\n",
              "      <td>0.000000</td>\n",
              "    </tr>\n",
              "  </tbody>\n",
              "</table>\n",
              "<p>200 rows × 200 columns</p>\n",
              "</div>\n",
              "      <button class=\"colab-df-convert\" onclick=\"convertToInteractive('df-2a39fd46-c5fe-415e-9525-26a83c625eb2')\"\n",
              "              title=\"Convert this dataframe to an interactive table.\"\n",
              "              style=\"display:none;\">\n",
              "        \n",
              "  <svg xmlns=\"http://www.w3.org/2000/svg\" height=\"24px\"viewBox=\"0 0 24 24\"\n",
              "       width=\"24px\">\n",
              "    <path d=\"M0 0h24v24H0V0z\" fill=\"none\"/>\n",
              "    <path d=\"M18.56 5.44l.94 2.06.94-2.06 2.06-.94-2.06-.94-.94-2.06-.94 2.06-2.06.94zm-11 1L8.5 8.5l.94-2.06 2.06-.94-2.06-.94L8.5 2.5l-.94 2.06-2.06.94zm10 10l.94 2.06.94-2.06 2.06-.94-2.06-.94-.94-2.06-.94 2.06-2.06.94z\"/><path d=\"M17.41 7.96l-1.37-1.37c-.4-.4-.92-.59-1.43-.59-.52 0-1.04.2-1.43.59L10.3 9.45l-7.72 7.72c-.78.78-.78 2.05 0 2.83L4 21.41c.39.39.9.59 1.41.59.51 0 1.02-.2 1.41-.59l7.78-7.78 2.81-2.81c.8-.78.8-2.07 0-2.86zM5.41 20L4 18.59l7.72-7.72 1.47 1.35L5.41 20z\"/>\n",
              "  </svg>\n",
              "      </button>\n",
              "      \n",
              "  <style>\n",
              "    .colab-df-container {\n",
              "      display:flex;\n",
              "      flex-wrap:wrap;\n",
              "      gap: 12px;\n",
              "    }\n",
              "\n",
              "    .colab-df-convert {\n",
              "      background-color: #E8F0FE;\n",
              "      border: none;\n",
              "      border-radius: 50%;\n",
              "      cursor: pointer;\n",
              "      display: none;\n",
              "      fill: #1967D2;\n",
              "      height: 32px;\n",
              "      padding: 0 0 0 0;\n",
              "      width: 32px;\n",
              "    }\n",
              "\n",
              "    .colab-df-convert:hover {\n",
              "      background-color: #E2EBFA;\n",
              "      box-shadow: 0px 1px 2px rgba(60, 64, 67, 0.3), 0px 1px 3px 1px rgba(60, 64, 67, 0.15);\n",
              "      fill: #174EA6;\n",
              "    }\n",
              "\n",
              "    [theme=dark] .colab-df-convert {\n",
              "      background-color: #3B4455;\n",
              "      fill: #D2E3FC;\n",
              "    }\n",
              "\n",
              "    [theme=dark] .colab-df-convert:hover {\n",
              "      background-color: #434B5C;\n",
              "      box-shadow: 0px 1px 3px 1px rgba(0, 0, 0, 0.15);\n",
              "      filter: drop-shadow(0px 1px 2px rgba(0, 0, 0, 0.3));\n",
              "      fill: #FFFFFF;\n",
              "    }\n",
              "  </style>\n",
              "\n",
              "      <script>\n",
              "        const buttonEl =\n",
              "          document.querySelector('#df-2a39fd46-c5fe-415e-9525-26a83c625eb2 button.colab-df-convert');\n",
              "        buttonEl.style.display =\n",
              "          google.colab.kernel.accessAllowed ? 'block' : 'none';\n",
              "\n",
              "        async function convertToInteractive(key) {\n",
              "          const element = document.querySelector('#df-2a39fd46-c5fe-415e-9525-26a83c625eb2');\n",
              "          const dataTable =\n",
              "            await google.colab.kernel.invokeFunction('convertToInteractive',\n",
              "                                                     [key], {});\n",
              "          if (!dataTable) return;\n",
              "\n",
              "          const docLinkHtml = 'Like what you see? Visit the ' +\n",
              "            '<a target=\"_blank\" href=https://colab.research.google.com/notebooks/data_table.ipynb>data table notebook</a>'\n",
              "            + ' to learn more about interactive tables.';\n",
              "          element.innerHTML = '';\n",
              "          dataTable['output_type'] = 'display_data';\n",
              "          await google.colab.output.renderOutput(dataTable, element);\n",
              "          const docLink = document.createElement('div');\n",
              "          docLink.innerHTML = docLinkHtml;\n",
              "          element.appendChild(docLink);\n",
              "        }\n",
              "      </script>\n",
              "    </div>\n",
              "  </div>\n",
              "  "
            ]
          },
          "metadata": {},
          "execution_count": 71
        }
      ]
    },
    {
      "cell_type": "code",
      "source": [
        ""
      ],
      "metadata": {
        "id": "zkEPwFPMnOfQ"
      },
      "execution_count": null,
      "outputs": []
    }
  ]
}